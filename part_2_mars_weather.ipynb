{
 "cells": [
  {
   "attachments": {},
   "cell_type": "markdown",
   "metadata": {},
   "source": [
    "# Module 12 Challenge\n",
    "## Deliverable 2: Scrape and Analyze Mars Weather Data"
   ]
  },
  {
   "cell_type": "code",
   "execution_count": 1,
   "metadata": {},
   "outputs": [],
   "source": [
    "# Import relevant libraries\n",
    "from splinter import Browser\n",
    "from bs4 import BeautifulSoup\n",
    "import matplotlib.pyplot as plt\n",
    "import pandas as pd\n",
    "from datetime import datetime as dt\n",
    "import pprint"
   ]
  },
  {
   "cell_type": "code",
   "execution_count": 2,
   "metadata": {},
   "outputs": [],
   "source": [
    "browser = Browser('chrome')"
   ]
  },
  {
   "attachments": {},
   "cell_type": "markdown",
   "metadata": {},
   "source": [
    "### Step 1: Visit the Website\n",
    "\n",
    "Use automated browsing to visit the [Mars Temperature Data Site](https://static.bc-edx.com/data/web/mars_facts/temperature.html). Inspect the page to identify which elements to scrape.\n",
    "\n",
    "   > **Hint** To identify which elements to scrape, you might want to inspect the page by using Chrome DevTools to discover whether the table contains usable classes.\n"
   ]
  },
  {
   "cell_type": "code",
   "execution_count": 3,
   "metadata": {},
   "outputs": [],
   "source": [
    "# Visit the website\n",
    "# https://static.bc-edx.com/data/web/mars_facts/temperature.html\n",
    "url = \"https://static.bc-edx.com/data/web/mars_facts/temperature.html\"\n",
    "browser.visit(url)"
   ]
  },
  {
   "attachments": {},
   "cell_type": "markdown",
   "metadata": {},
   "source": [
    "### Step 2: Scrape the Table\n",
    "\n",
    "Create a Beautiful Soup object and use it to scrape the data in the HTML table.\n",
    "\n",
    "Note that this can also be achieved by using the Pandas `read_html` function. However, use Beautiful Soup here to continue sharpening your web scraping skills."
   ]
  },
  {
   "cell_type": "code",
   "execution_count": 4,
   "metadata": {},
   "outputs": [],
   "source": [
    "# Create a Beautiful Soup Object\n",
    "html = browser.html\n",
    "soup = BeautifulSoup(html, 'html.parser')"
   ]
  },
  {
   "cell_type": "code",
   "execution_count": 5,
   "metadata": {},
   "outputs": [],
   "source": [
    "# Extract all rows of data\n",
    "table = soup.find('table', class_='table')\n",
    "rows = table.find_all('tr', class_='data-row')"
   ]
  },
  {
   "attachments": {},
   "cell_type": "markdown",
   "metadata": {},
   "source": [
    "### Step 3: Store the Data\n",
    "\n",
    "Assemble the scraped data into a Pandas DataFrame. The columns should have the same headings as the table on the website. Here’s an explanation of the column headings:\n",
    "\n",
    "* `id`: the identification number of a single transmission from the Curiosity rover\n",
    "* `terrestrial_date`: the date on Earth\n",
    "* `sol`: the number of elapsed sols (Martian days) since Curiosity landed on Mars\n",
    "* `ls`: the solar longitude\n",
    "* `month`: the Martian month\n",
    "* `min_temp`: the minimum temperature, in Celsius, of a single Martian day (sol)\n",
    "* `pressure`: The atmospheric pressure at Curiosity's location"
   ]
  },
  {
   "cell_type": "code",
   "execution_count": 6,
   "metadata": {},
   "outputs": [],
   "source": [
    "# Create an empty list\n",
    "data_rows_list = []\n",
    "# Loop through the scraped data to create a list of rows\n",
    "for row in rows:\n",
    "    temp_text_row = []\n",
    "    td_tags = row.find_all('td')\n",
    "    for tag in td_tags:\n",
    "        temp_text_row.append(tag.text)\n",
    "    data_rows_list.append(temp_text_row)"
   ]
  },
  {
   "cell_type": "code",
   "execution_count": 7,
   "metadata": {},
   "outputs": [],
   "source": [
    "# Create a Pandas DataFrame by using the list of rows and a list of the column names\n",
    "column_name_list = ['id', 'terrestrial_date', 'sol', 'ls', 'month', 'min_temp', 'pressure']\n",
    "\n",
    "df = pd.DataFrame()\n",
    "for i in range(len(column_name_list)):\n",
    "    assembled_series = []\n",
    "    for j in range(len(data_rows_list)):\n",
    "        assembled_series.append(data_rows_list[j][i])\n",
    "\n",
    "    df[column_name_list[i]] = assembled_series\n",
    "    "
   ]
  },
  {
   "cell_type": "code",
   "execution_count": 8,
   "metadata": {},
   "outputs": [
    {
     "name": "stdout",
     "output_type": "stream",
     "text": [
      "        id terrestrial_date   sol   ls month min_temp pressure\n",
      "0        2       2012-08-16    10  155     6    -75.0    739.0\n",
      "1       13       2012-08-17    11  156     6    -76.0    740.0\n",
      "2       24       2012-08-18    12  156     6    -76.0    741.0\n",
      "3       35       2012-08-19    13  157     6    -74.0    732.0\n",
      "4       46       2012-08-20    14  157     6    -74.0    740.0\n",
      "...    ...              ...   ...  ...   ...      ...      ...\n",
      "1862  1889       2018-02-23  1973  133     5    -78.0    730.0\n",
      "1863  1892       2018-02-24  1974  134     5    -77.0    729.0\n",
      "1864  1894       2018-02-25  1975  134     5    -76.0    729.0\n",
      "1865  1893       2018-02-26  1976  135     5    -77.0    728.0\n",
      "1866  1895       2018-02-27  1977  135     5    -77.0    727.0\n",
      "\n",
      "[1867 rows x 7 columns]\n"
     ]
    }
   ],
   "source": [
    "# Confirm DataFrame was created successfully\n",
    "pprint.pp(df)"
   ]
  },
  {
   "attachments": {},
   "cell_type": "markdown",
   "metadata": {},
   "source": [
    "### Step 4: Prepare Data for Analysis\n",
    "\n",
    "Examine the data types that are currently associated with each column. If necessary, cast (or convert) the data to the appropriate `datetime`, `int`, or `float` data types.\n",
    "\n",
    "  > **Hint** You can use the Pandas `astype` and `to_datetime` methods to accomplish this task.\n"
   ]
  },
  {
   "cell_type": "code",
   "execution_count": 9,
   "metadata": {},
   "outputs": [
    {
     "name": "stdout",
     "output_type": "stream",
     "text": [
      "id                  object\n",
      "terrestrial_date    object\n",
      "sol                 object\n",
      "ls                  object\n",
      "month               object\n",
      "min_temp            object\n",
      "pressure            object\n",
      "dtype: object\n"
     ]
    }
   ],
   "source": [
    "# Examine data type of each column\n",
    "print(df.dtypes)"
   ]
  },
  {
   "cell_type": "code",
   "execution_count": 10,
   "metadata": {},
   "outputs": [],
   "source": [
    "# Change data types for data analysis\n",
    "#df = df.astype(int)\n",
    "df['terrestrial_date'] = pd.to_datetime(df['terrestrial_date'])\n",
    "df = df.astype({\"sol\": int, \"ls\": int, \"month\": int, \"min_temp\": float, \"pressure\": float})"
   ]
  },
  {
   "cell_type": "code",
   "execution_count": 11,
   "metadata": {},
   "outputs": [
    {
     "data": {
      "text/plain": [
       "id                          object\n",
       "terrestrial_date    datetime64[ns]\n",
       "sol                          int64\n",
       "ls                           int64\n",
       "month                        int64\n",
       "min_temp                   float64\n",
       "pressure                   float64\n",
       "dtype: object"
      ]
     },
     "execution_count": 11,
     "metadata": {},
     "output_type": "execute_result"
    }
   ],
   "source": [
    "# Confirm type changes were successful by examining data types again\n",
    "df.dtypes"
   ]
  },
  {
   "attachments": {},
   "cell_type": "markdown",
   "metadata": {},
   "source": [
    "### Step 5: Analyze the Data\n",
    "\n",
    "Analyze your dataset by using Pandas functions to answer the following questions:\n",
    "\n",
    "1. How many months exist on Mars?\n",
    "2. How many Martian (and not Earth) days worth of data exist in the scraped dataset?\n",
    "3. What are the coldest and the warmest months on Mars (at the location of Curiosity)? To answer this question:\n",
    "    * Find the average the minimum daily temperature for all of the months.\n",
    "    * Plot the results as a bar chart.\n",
    "4. Which months have the lowest and the highest atmospheric pressure on Mars? To answer this question:\n",
    "    * Find the average the daily atmospheric pressure of all the months.\n",
    "    * Plot the results as a bar chart.\n",
    "5. About how many terrestrial (Earth) days exist in a Martian year? To answer this question:\n",
    "    * Consider how many days elapse on Earth in the time that Mars circles the Sun once.\n",
    "    * Visually estimate the result by plotting the daily minimum temperature.\n"
   ]
  },
  {
   "cell_type": "code",
   "execution_count": 12,
   "metadata": {},
   "outputs": [
    {
     "name": "stdout",
     "output_type": "stream",
     "text": [
      "[ 1  2  3  4  5  6  7  8  9 10 11 12]\n",
      "12\n"
     ]
    }
   ],
   "source": [
    "# 1. How many months are there on Mars?\n",
    "unique_months = df[\"month\"].unique()\n",
    "unique_months.sort()\n",
    "print(unique_months)\n",
    "print(len(unique_months))\n",
    "\n",
    "## 12 months are present on Mars"
   ]
  },
  {
   "cell_type": "code",
   "execution_count": 13,
   "metadata": {},
   "outputs": [
    {
     "name": "stdout",
     "output_type": "stream",
     "text": [
      "# of Martian days of data: 1867\n"
     ]
    }
   ],
   "source": [
    "# 2. How many Martian days' worth of data are there?\n",
    "unique_martian_days = df[\"sol\"].unique()\n",
    "unique_martian_days.sort()\n",
    "print(\"# of Martian days of data: \" + str(len(unique_martian_days)))\n",
    "\n",
    "## 1867 Martian days of data are present"
   ]
  },
  {
   "cell_type": "code",
   "execution_count": 14,
   "metadata": {},
   "outputs": [
    {
     "name": "stdout",
     "output_type": "stream",
     "text": [
      "{np.int64(1): {'num_points': 174,\n",
      "               'total': -13426.0,\n",
      "               'average': -77.16091954022988},\n",
      " np.int64(2): {'num_points': 178,\n",
      "               'total': -14228.0,\n",
      "               'average': -79.93258426966293},\n",
      " np.int64(3): {'num_points': 192,\n",
      "               'total': -15995.0,\n",
      "               'average': -83.30729166666667},\n",
      " np.int64(4): {'num_points': 194,\n",
      "               'total': -16053.0,\n",
      "               'average': -82.74742268041237},\n",
      " np.int64(5): {'num_points': 149,\n",
      "               'total': -11817.0,\n",
      "               'average': -79.30872483221476},\n",
      " np.int64(6): {'num_points': 147,\n",
      "               'total': -11069.0,\n",
      "               'average': -75.29931972789116},\n",
      " np.int64(7): {'num_points': 142,\n",
      "               'total': -10264.0,\n",
      "               'average': -72.28169014084507},\n",
      " np.int64(8): {'num_points': 141,\n",
      "               'total': -9642.0,\n",
      "               'average': -68.38297872340425},\n",
      " np.int64(9): {'num_points': 134,\n",
      "               'total': -9269.0,\n",
      "               'average': -69.17164179104478},\n",
      " np.int64(10): {'num_points': 112,\n",
      "                'total': -8062.0,\n",
      "                'average': -71.98214285714286},\n",
      " np.int64(11): {'num_points': 138,\n",
      "                'total': -9934.0,\n",
      "                'average': -71.98550724637681},\n",
      " np.int64(12): {'num_points': 166,\n",
      "                'total': -12359.0,\n",
      "                'average': -74.45180722891567}}\n"
     ]
    }
   ],
   "source": [
    "# 3. What is the average low temperature by month?\n",
    "\n",
    "month_avg_lookup = {}\n",
    "\n",
    "for month in unique_months:\n",
    "    month_avg_lookup[month] = {}\n",
    "    month_avg_lookup[month][\"num_points\"] = 0\n",
    "    month_avg_lookup[month][\"total\"] = 0\n",
    "\n",
    "for row in df.itertuples():\n",
    "    measurement_month = row[5]\n",
    "    measurement_low = row[6]\n",
    "    month_avg_lookup[measurement_month][\"num_points\"] += 1\n",
    "    month_avg_lookup[measurement_month][\"total\"] += measurement_low\n",
    "\n",
    "\n",
    "#pprint.pp(month_avg_lookup)\n",
    "\n",
    "for key, value in month_avg_lookup.items():\n",
    "    month_avg_lookup[key][\"average\"] = month_avg_lookup[key][\"total\"] / month_avg_lookup[key][\"num_points\"]\n",
    "\n",
    "pprint.pp(month_avg_lookup)\n",
    "\n",
    "## Average daily min temperature per month on Mars listed below as \"average\" key per month"
   ]
  },
  {
   "cell_type": "code",
   "execution_count": 15,
   "metadata": {},
   "outputs": [
    {
     "data": {
      "image/png": "[encoded data removed]",
      "text/plain": [
       "<Figure size 640x480 with 1 Axes>"
      ]
     },
     "metadata": {},
     "output_type": "display_data"
    }
   ],
   "source": [
    "# Plot the average temperature by month\n",
    "toplot_x = []\n",
    "toplot_y = []\n",
    "\n",
    "for key, value in month_avg_lookup.items():\n",
    "    toplot_x.append(int(key))\n",
    "    toplot_y.append(value['average'])\n",
    "    \n",
    "plt.xlabel(\"Martian Month\")\n",
    "plt.ylabel(\"Average Minimum Daily Temperature (Celsius)\")\n",
    "plt.title(\"Average Minimum Daily Temperature per Month on Mars\")\n",
    "plt.bar(toplot_x, toplot_y)\n",
    "\n",
    "plt.show()"
   ]
  },
  {
   "cell_type": "code",
   "execution_count": 16,
   "metadata": {},
   "outputs": [],
   "source": [
    "# Identify the coldest and hottest months in Curiosity's location\n",
    "\n",
    "# A: The coldest and hottest months appear to be month 3 and 8, respectively."
   ]
  },
  {
   "cell_type": "code",
   "execution_count": 17,
   "metadata": {},
   "outputs": [
    {
     "name": "stdout",
     "output_type": "stream",
     "text": [
      "{np.int64(1): {'num_points': 174,\n",
      "               'total': 150073.0,\n",
      "               'average': 862.4885057471264},\n",
      " np.int64(2): {'num_points': 178,\n",
      "               'total': 158323.0,\n",
      "               'average': 889.4550561797753},\n",
      " np.int64(3): {'num_points': 192,\n",
      "               'total': 168446.0,\n",
      "               'average': 877.3229166666666},\n",
      " np.int64(4): {'num_points': 194,\n",
      "               'total': 156428.0,\n",
      "               'average': 806.3298969072165},\n",
      " np.int64(5): {'num_points': 149,\n",
      "               'total': 111535.0,\n",
      "               'average': 748.5570469798657},\n",
      " np.int64(6): {'num_points': 147,\n",
      "               'total': 109523.0,\n",
      "               'average': 745.0544217687075},\n",
      " np.int64(7): {'num_points': 142,\n",
      "               'total': 112905.0,\n",
      "               'average': 795.1056338028169},\n",
      " np.int64(8): {'num_points': 141,\n",
      "               'total': 123210.0,\n",
      "               'average': 873.8297872340426},\n",
      " np.int64(9): {'num_points': 134,\n",
      "               'total': 122383.0,\n",
      "               'average': 913.3059701492538},\n",
      " np.int64(10): {'num_points': 112, 'total': 99379.0, 'average': 887.3125},\n",
      " np.int64(11): {'num_points': 138,\n",
      "                'total': 118268.0,\n",
      "                'average': 857.0144927536232},\n",
      " np.int64(12): {'num_points': 166,\n",
      "                'total': 139798.0,\n",
      "                'average': 842.156626506024}}\n"
     ]
    }
   ],
   "source": [
    "# 4. Average pressure by Martian month\n",
    "\n",
    "month_avg_pressure_lookup = {}\n",
    "\n",
    "for month in unique_months:\n",
    "    month_avg_pressure_lookup[month] = {}\n",
    "    month_avg_pressure_lookup[month][\"num_points\"] = 0\n",
    "    month_avg_pressure_lookup[month][\"total\"] = 0\n",
    "\n",
    "for row in df.itertuples():\n",
    "    measurement_month = row[5]\n",
    "    measurement_pressure = row[7]\n",
    "    month_avg_pressure_lookup[measurement_month][\"num_points\"] += 1\n",
    "    month_avg_pressure_lookup[measurement_month][\"total\"] += measurement_pressure\n",
    "\n",
    "\n",
    "#pprint.pp(month_avg_lookup)\n",
    "\n",
    "for key, value in month_avg_pressure_lookup.items():\n",
    "    month_avg_pressure_lookup[key][\"average\"] = month_avg_pressure_lookup[key][\"total\"] / month_avg_pressure_lookup[key][\"num_points\"]\n",
    "\n",
    "pprint.pp(month_avg_pressure_lookup)\n",
    "\n",
    "## Average daily min temperature per month on Mars listed below as \"average\" key per month"
   ]
  },
  {
   "cell_type": "code",
   "execution_count": 18,
   "metadata": {},
   "outputs": [
    {
     "data": {
      "image/png": "[encoded data removed]",
      "text/plain": [
       "<Figure size 640x480 with 1 Axes>"
      ]
     },
     "metadata": {},
     "output_type": "display_data"
    }
   ],
   "source": [
    "# Plot the average pressure by month\n",
    "pressure_toplot_x = []\n",
    "pressure_toplot_y = []\n",
    "\n",
    "for key, value in month_avg_pressure_lookup.items():\n",
    "    pressure_toplot_x.append(int(key))\n",
    "    pressure_toplot_y.append(value['average'])\n",
    "\n",
    "plt.bar(pressure_toplot_x, pressure_toplot_y)\n",
    "plt.xlabel(\"Martian Month\")\n",
    "plt.ylabel(\"Average Pressure Measured per Month\")\n",
    "plt.title(\"Average Daily Pressure per Month on Mars\")\n",
    "plt.show()"
   ]
  },
  {
   "cell_type": "code",
   "execution_count": 19,
   "metadata": {},
   "outputs": [],
   "source": [
    "# 5. How many terrestrial (earth) days are there in a Martian year?\n"
   ]
  },
  {
   "attachments": {},
   "cell_type": "markdown",
   "metadata": {},
   "source": [
    "On average, the third month has the coldest minimum temperature on Mars, and the eighth month is the warmest. But it is always very cold there in human terms!\n",
    "\n"
   ]
  },
  {
   "attachments": {},
   "cell_type": "markdown",
   "metadata": {},
   "source": [
    "Atmospheric pressure is, on average, lowest in the sixth month and highest in the ninth."
   ]
  },
  {
   "attachments": {},
   "cell_type": "markdown",
   "metadata": {},
   "source": [
    "The distance from peak to peak is roughly 1425-750, or 675 days. A year on Mars appears to be about 675 days from the plot. Internet search confirms that a Mars year is equivalent to 687 earth days."
   ]
  },
  {
   "attachments": {},
   "cell_type": "markdown",
   "metadata": {},
   "source": [
    "### Step 6: Save the Data\n",
    "\n",
    "Export the DataFrame to a CSV file."
   ]
  },
  {
   "cell_type": "code",
   "execution_count": 20,
   "metadata": {},
   "outputs": [],
   "source": [
    "# Write the data to a CSV\n",
    "df.to_csv(\"output.csv\")"
   ]
  },
  {
   "cell_type": "code",
   "execution_count": 21,
   "metadata": {},
   "outputs": [],
   "source": [
    "browser.quit()"
   ]
  },
  {
   "cell_type": "code",
   "execution_count": null,
   "metadata": {},
   "outputs": [],
   "source": []
  }
 ],
 "metadata": {
  "kernelspec": {
   "display_name": "Python 3 (ipykernel)",
   "language": "python",
   "name": "python3"
  },
  "language_info": {
   "codemirror_mode": {
    "name": "ipython",
    "version": 3
   },
   "file_extension": ".py",
   "mimetype": "text/x-python",
   "name": "python",
   "nbconvert_exporter": "python",
   "pygments_lexer": "ipython3",
   "version": "3.12.4"
  },
  "vscode": {
   "interpreter": {
    "hash": "31f2aee4e71d21fbe5cf8b01ff0e069b9275f58929596ceb00d14d90e3e16cd6"
   }
  }
 },
 "nbformat": 4,
 "nbformat_minor": 4
}
